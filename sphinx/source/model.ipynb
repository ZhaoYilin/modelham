{
 "cells": [
  {
   "cell_type": "code",
   "execution_count": 1,
   "metadata": {},
   "outputs": [
    {
     "data": {
      "text/plain": [
       "modelham.tensornetwork.general.HalfEdge"
      ]
     },
     "execution_count": 1,
     "metadata": {},
     "output_type": "execute_result"
    }
   ],
   "source": [
    "from modelham import *\n",
    "\n",
    "vacuum = HalfEdge.vacuum()\n",
    "target = HalfEdge.target(6,-2,0)\n",
    "di = Edge()\n",
    "\n",
    "type(di.virtual(vacuum, target, *[SpinHalfSite(0)]*6)[0])\n"
   ]
  }
 ],
 "metadata": {
  "kernelspec": {
   "display_name": "modelham",
   "language": "python",
   "name": "python3"
  },
  "language_info": {
   "codemirror_mode": {
    "name": "ipython",
    "version": 3
   },
   "file_extension": ".py",
   "mimetype": "text/x-python",
   "name": "python",
   "nbconvert_exporter": "python",
   "pygments_lexer": "ipython3",
   "version": "3.11.4"
  },
  "orig_nbformat": 4
 },
 "nbformat": 4,
 "nbformat_minor": 2
}
